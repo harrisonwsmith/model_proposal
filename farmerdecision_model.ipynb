# Farmer Decison making model

_Harrison Smith_

* Course ID: CMPLXSYS 530,
* Course Title: Computer Modeling of Complex Systems
* Term: Winter, 2018

&nbsp; 

### Goal 
*****
 
The goal of this model will be to explore how farmers in India may respond or adapt to increased variability in the onset of the monsoon season. Specifically, it will focus on how access to irrigation during the monsoon season may affect sow dates, irrigation use, and and yield. 

&nbsp;  
